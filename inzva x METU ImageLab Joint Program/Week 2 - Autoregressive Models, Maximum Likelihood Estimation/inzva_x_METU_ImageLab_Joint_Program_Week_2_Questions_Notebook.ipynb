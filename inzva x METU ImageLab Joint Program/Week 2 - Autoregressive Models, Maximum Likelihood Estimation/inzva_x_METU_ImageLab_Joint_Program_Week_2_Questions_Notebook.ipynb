{
  "nbformat": 4,
  "nbformat_minor": 0,
  "metadata": {
    "colab": {
      "name": "inzva x METU ImageLab Joint Program Week 2 Questions Notebook.ipynb",
      "provenance": [],
      "collapsed_sections": []
    },
    "kernelspec": {
      "name": "python3",
      "display_name": "Python 3"
    },
    "language_info": {
      "name": "python"
    }
  },
  "cells": [
    {
      "cell_type": "markdown",
      "metadata": {
        "id": "ODnWd5AOHArS"
      },
      "source": [
        "# Q1: Theoretical Questions"
      ]
    },
    {
      "cell_type": "markdown",
      "metadata": {
        "id": "RYaLVuVYIYyl"
      },
      "source": [
        "1. Briefly explain the differences between following models:\n",
        "* FVSBN\n",
        "* NADE\n",
        "* RNADE\n",
        "* PixelRNN\n",
        "* PixelCNN\n",
        "\n",
        "----\n",
        "\n",
        "2. Briefly explain the relationships between following concepts:\n",
        "* Neg-log-likelihood\n",
        "* Max-likelihood-estimation\n",
        "* Cross-entropy-loss\n",
        "* KL-divergence\n",
        "\n",
        "---\n",
        "\n",
        "3. True/False questions\n",
        "* $D(p || q)$ is equal to $D(q || p)$\n",
        "* Autoregressive models tries to learn a data distribution in an explicit manner.\n",
        "* In PixelCNN masking applies only to previous pixels."
      ]
    },
    {
      "cell_type": "markdown",
      "metadata": {
        "id": "r2gIutxFZQ6h"
      },
      "source": [
        "# Q2: *Fully Visible Sigmoid Belief Networks*\n",
        "In this part, first we are going to implement the evaluation function for the FVSBN. Afterwards we are going to implement a function for sampling purposes."
      ]
    },
    {
      "cell_type": "markdown",
      "metadata": {
        "id": "Taw0m23amk1C"
      },
      "source": [
        "Suppose that we have a dataset which contains handwritten digit images. Each image consist of 28x28 black-or-white pixels (binarised MNIST). \n",
        "Our goal is learning a probabilty distribution $p(x) = p(x_1, x_2, \\dots , x_{784})$ such that when we sample an instance from that distribution it should look like a digit.\n",
        "\n",
        "In autoregressive models, we are binding each pixel (variable) conditionally and sequentially (left-to-right etc.). \n",
        "$p(x_1, x_2, \\dots , x_{784}) = p(x_1)p(x_2|x_1)p(x_3|x_1, x_2) \\dots p(x_{784}|x_1, x_2 \\dots, x_{783})$\n",
        "\n",
        "\n",
        "In Fully Visible Sigmoid Belief Networks, we assume;\n",
        "\n",
        "$p(x_i = 1 | x_1, x_2 \\dots, x_{i-1}) = \\sigma(\\alpha^{(i)}_0 + \\sum_{h=1}^{i-1} \\alpha^{(i)}_h x_h)$\n",
        "\n",
        "Where $\\sigma$ denotes the sigmoid function and $\\alpha$ denotes the learnable parameters.\n",
        "\n",
        "Every i'th pixel have parameter for all the previous pixels and also a bias term, so that the model have $1+2+\\dots+784$ parameters.\n",
        "\n",
        "In the coding part, a denotes the $\\alpha$ and it is a [lower triangular matrix](https://wikimedia.org/api/rest_v1/media/math/render/svg/f770c7fa4c212eac3d7d7f9a54f7decbc811276f)\n"
      ]
    },
    {
      "cell_type": "code",
      "metadata": {
        "id": "XI8yu5EACHoC"
      },
      "source": [
        "import numpy as np\n",
        "\n",
        "def evaluate(a, x):\n",
        "  # args:\n",
        "  #   a -> paramaters np.array(784, 784)\n",
        "  #   x -> image sample np.array(1, 784)\n",
        "\n",
        "  # return:\n",
        "  #   a floating point number that denotes the p(x)\n",
        "\n",
        "\n",
        "  ##### solution ##### \n",
        "\n",
        "\n",
        "\n",
        "  ####################\n",
        "\n",
        "  return p\n",
        "\n",
        "\n",
        "def sample(a):\n",
        "  # args:\n",
        "  #   a -> paramaters (784, 784)\n",
        "\n",
        "  # return:\n",
        "  #   a numpy array in the shape of (28x28)\n",
        "\n",
        "\n",
        "  ##### solution ##### \n",
        "\n",
        "\n",
        "\n",
        "  ####################\n",
        "\n",
        "  return image\n"
      ],
      "execution_count": null,
      "outputs": []
    },
    {
      "cell_type": "markdown",
      "metadata": {
        "id": "ItfIHOKM25ut"
      },
      "source": [
        "# Q3: *Kullback–Leibler Divergence*\n",
        "In this part we are going to implement a function for calculating the KL divergence between given two Gaussians."
      ]
    },
    {
      "cell_type": "markdown",
      "metadata": {
        "id": "4lP8sq8i6wy1"
      },
      "source": [
        "For the math part, [this](https://mr-easy.github.io/2020-04-16-kl-divergence-between-2-gaussian-distributions/) link might help."
      ]
    },
    {
      "cell_type": "code",
      "metadata": {
        "id": "dy0_nHwy62eh"
      },
      "source": [
        "import numpy as np\n",
        "\n",
        "def kl_divergence(p, q):\n",
        "  # args:\n",
        "  #   p -> gaussian-1, tupple(mean, std)\n",
        "  #   q -> gaussian-2, tupple(mean, std)\n",
        "\n",
        "  # return:\n",
        "  #   a floating point number that denotes D(p||q)\n",
        "\n",
        "  p_dist = np.random.normal(p[0], p[1], 1000)\n",
        "  q_dist = np.random.normal(q[0], q[1], 1000)\n",
        "\n",
        "  ##### solution ##### \n",
        "\n",
        "\n",
        "\n",
        "  ####################\n",
        "\n",
        "  return d\n"
      ],
      "execution_count": null,
      "outputs": []
    },
    {
      "cell_type": "code",
      "metadata": {
        "colab": {
          "base_uri": "https://localhost:8080/",
          "height": 265
        },
        "id": "NXSqy5vaDSg_",
        "outputId": "634706eb-b09f-4614-d512-7e43c7fad899"
      },
      "source": [
        "# Test\n",
        "import matplotlib.pyplot as plt\n",
        "import numpy as np\n",
        "import scipy.stats as stats\n",
        "import math\n",
        "\n",
        "p = (0, 1)\n",
        "q = (16, 3)\n",
        "y = (20, 6)\n",
        "\n",
        "pl = np.linspace(p[0] - 3*p[1], p[0] + 3*p[1], 100)\n",
        "ql = np.linspace(q[0] - 3*q[1], q[0] + 3*q[1], 100)\n",
        "yl = np.linspace(y[0] - 3*y[1], y[0] + 3*y[1], 100)\n",
        "\n",
        "plt.plot(pl, stats.norm.pdf(pl, p[0], math.sqrt(p[1])))\n",
        "plt.plot(ql, stats.norm.pdf(ql, q[0], math.sqrt(q[1])))\n",
        "plt.plot(yl, stats.norm.pdf(yl, y[0], math.sqrt(y[1])))\n",
        "plt.show()"
      ],
      "execution_count": null,
      "outputs": [
        {
          "output_type": "display_data",
          "data": {
            "image/png": "[encoded data removed]",
            "text/plain": [
              "<Figure size 432x288 with 1 Axes>"
            ]
          },
          "metadata": {
            "tags": [],
            "needs_background": "light"
          }
        }
      ]
    },
    {
      "cell_type": "code",
      "metadata": {
        "id": "34dXRibnDbY9"
      },
      "source": [
        "# After uncommenting below lines, please run your implementation and observe it\n",
        "\n",
        "# D_pq = kl_divergence(p, q)\n",
        "# D_qp = kl_divergence(q, p)\n",
        "# D_py = kl_divergence(p, y)\n",
        "# D_yq = kl_divergence(y, q)\n"
      ],
      "execution_count": null,
      "outputs": []
    },
    {
      "cell_type": "markdown",
      "metadata": {
        "id": "1vyn4A0RNCYN"
      },
      "source": [
        "# Q4: *PixelCNN*\n",
        "In this part we are going to implement the masking and the generation parts for a very simplified version of the PixelCNN."
      ]
    },
    {
      "cell_type": "markdown",
      "metadata": {
        "id": "QS0059yeNgID"
      },
      "source": [
        "The model consist of one convolutional layer and fully-connected layer. Assume that inputs are 28x28 grayscale (0 to 255) images.\n",
        "\n",
        "You should first apply a masking strategy for 7x7 kernels.\n",
        "\n",
        "Then you should autoregressively (pixel by pixel) generate the image by passing each pixel to network."
      ]
    },
    {
      "cell_type": "code",
      "metadata": {
        "id": "trIi1e_ZktyJ"
      },
      "source": [
        "image_size = 28\n",
        "KERNEL_SIZE = 7\n",
        "FILTER_NUM = 64\n",
        "STRIDE = 1\n",
        "PADDING = KERNEL_SIZE//2\n",
        "OUT = 256\n",
        "\n",
        "sample_img = np.zeros([image_size, image_size])\n",
        "\n",
        "filters = np.random.randn(KERNEL_SIZE, KERNEL_SIZE, FILTER_NUM)\n",
        "bias = np.random.randn(FILTER_NUM)\n",
        "fully_connected = np.random.randn(FILTER_NUM, OUT)\n",
        "\n",
        "############## SOLUTION ##############\n",
        "\n",
        "\n",
        "########## masking ###########\n",
        "\n",
        "####### end of masking #######\n",
        "\n",
        "\n",
        "\n",
        "######### generation ##########\n",
        "\n",
        "###### end of generation ######\n",
        "\n",
        "\n",
        "########### END OF SOLUTION ###########\n",
        "\n"
      ],
      "execution_count": null,
      "outputs": []
    }
  ]
}