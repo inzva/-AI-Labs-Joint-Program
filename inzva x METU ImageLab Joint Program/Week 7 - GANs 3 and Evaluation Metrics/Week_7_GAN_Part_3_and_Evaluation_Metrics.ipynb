{
  "nbformat": 4,
  "nbformat_minor": 0,
  "metadata": {
    "colab": {
      "name": "Week 7 - GAN Part 3 and Evaluation Metrics",
      "provenance": [],
      "collapsed_sections": []
    },
    "kernelspec": {
      "name": "python3",
      "display_name": "Python 3"
    },
    "language_info": {
      "name": "python"
    }
  },
  "cells": [
    {
      "cell_type": "markdown",
      "metadata": {
        "id": "O59IAvQZwh2d"
      },
      "source": [
        "# Week 7 - GAN Part 3 and Evaluation Metrics Notebook\n",
        "\n",
        "In this notebook, we will solve questions on GANs and evaluation metrics of generative models in general.\n",
        "\n",
        " - This notebook is prepared using PyTorch. However, you can use any Python package you want to implement the necessary functions in questions.\n",
        " - If the question asks you to implement a specific function, please do not use its readily available version from a package and implement it yourself.\n",
        "\n",
        "## Question 1\n",
        "\n",
        "Please answer the questions below:\n",
        "\n",
        "1. Please explain the concept of batch normalization. What problem does it solve and how?\n",
        "2. What is spectral normalization and why do we use it?\n",
        "3. What is the meaning of class-conditional GAN? How do we make GANs class conditional?\n",
        "4. What are the main differences between StyleGAN-v1 and StyleGAN-v2?\n",
        "5. Why is it so hard to quantitatively evaluate generative models?\n",
        "6. What assumptions are we making on the data/model distribution when using Inception Score and Frechet Inception distance?\n",
        "\n",
        "You can write your answer for each question in the markdown cell below:"
      ]
    },
    {
      "cell_type": "markdown",
      "metadata": {
        "id": "gIybKtetzXZ0"
      },
      "source": [
        "**Please write your answer for each question here**"
      ]
    },
    {
      "cell_type": "markdown",
      "metadata": {
        "id": "bZBfAnpdzYA4"
      },
      "source": [
        "## Question 2\n",
        "\n",
        "**Part 1**: Implement regular batch normalization for convolutional layers. Definition of the function and the input to test is given.\n",
        "\n",
        "For reference, you can use the batch normalization paper given [here](https://arxiv.org/abs/1502.03167). Also, you can refer to the lecture slides.\n",
        "\n",
        "Please note that we will implement a simple version of batch normalization, and in this simple version we will not be using *running mean*, *running variance*, and *momentum* parameters."
      ]
    },
    {
      "cell_type": "code",
      "metadata": {
        "id": "WkXHcZM_zYKy"
      },
      "source": [
        "import torch\n",
        "torch.manual_seed(0)\n",
        "\n",
        "batch_size = 16\n",
        "num_channels = 12\n",
        "\n",
        "input_tensor = torch.normal(3, 10, size=(batch_size, num_channels, 24, 24))"
      ],
      "execution_count": null,
      "outputs": []
    },
    {
      "cell_type": "code",
      "metadata": {
        "id": "Ad-NUfja5KT2"
      },
      "source": [
        "def batch_normalization_conv(X, gamma, beta, eps=1e-8):\n",
        "  \"\"\"Performs batch normalization operation for convolutional layer output\n",
        "    Args:\n",
        "        X: input tensor (N x C x H x W)\n",
        "        gamma: scale variable\n",
        "        beta: offset variable\n",
        "        eps: epsilon value\n",
        "    Returns:\n",
        "        the resulting tensor of the batch norm operation\n",
        "  \"\"\"\n",
        "  #######################\n",
        "  # Write code here\n",
        "  #######################\n",
        "  pass"
      ],
      "execution_count": null,
      "outputs": []
    },
    {
      "cell_type": "code",
      "metadata": {
        "id": "G3f08bJa54Ju",
        "colab": {
          "base_uri": "https://localhost:8080/"
        },
        "outputId": "bea95d9c-912d-4c9f-e705-d03f73e5023d"
      },
      "source": [
        "print(\"Expected Output:\")\n",
        "print(batch_normalization_conv(input_tensor, gamma=1, beta=0)[0,0,0,:])"
      ],
      "execution_count": null,
      "outputs": [
        {
          "output_type": "stream",
          "name": "stdout",
          "text": [
            "Expected Output:\n",
            "tensor([-1.1380, -1.1645, -0.2613, -0.4449,  0.8398,  0.6829, -0.3268, -2.1290,\n",
            "         0.3125, -1.2757,  0.3403,  0.2984,  0.1098,  1.2294,  1.1083, -0.2580,\n",
            "        -1.3651, -1.7090,  0.5573,  0.7845,  0.5895, -1.5679, -0.3522,  1.8458])\n"
          ]
        }
      ]
    },
    {
      "cell_type": "code",
      "metadata": {
        "colab": {
          "base_uri": "https://localhost:8080/"
        },
        "id": "cM5weR2lJMq-",
        "outputId": "c4b807f4-509d-4413-ca49-799753944014"
      },
      "source": [
        "input_tensor[0,0,0,:]"
      ],
      "execution_count": null,
      "outputs": [
        {
          "output_type": "execute_result",
          "data": {
            "text/plain": [
              "tensor([ -8.2584,  -8.5236,   0.4942,  -1.3388,  11.4871,   9.9201,  -0.1601,\n",
              "        -18.1522,   6.2227,  -9.6333,   6.4998,   6.0813,   4.1984,  15.3766,\n",
              "         14.1678,   0.5272, -10.5265, -13.9593,   8.6665,  10.9351,   8.9884,\n",
              "        -12.5510,  -0.4136,  21.5301])"
            ]
          },
          "metadata": {},
          "execution_count": 15
        }
      ]
    },
    {
      "cell_type": "markdown",
      "metadata": {
        "id": "jTaX6DeL_s1S"
      },
      "source": [
        "Expected output:\n",
        "\n",
        "tensor([-1.1380, -1.1645, -0.2613, -0.4449,  0.8398,  0.6829, -0.3268, -2.1290,\n",
        "         0.3125, -1.2757,  0.3403,  0.2984,  0.1098,  1.2294,  1.1083, -0.2580,\n",
        "        -1.3651, -1.7090,  0.5573,  0.7845,  0.5895, -1.5679, -0.3522,  1.8458])"
      ]
    },
    {
      "cell_type": "markdown",
      "metadata": {
        "id": "Eoses_gx4jx6"
      },
      "source": [
        "**Part 2**: Implement class-conditional batch normalization for convolutional layers. You can copy-paste and modify your code from part 1 and use the same input above with the given **Y** vector below. You can refer to the lecture slides for the pseudocode.\n",
        "\n",
        "This part is a bit tricky since we cannot directly use the class labels as inputs to a feed-forward neural network.\n",
        "\n",
        "We therefore use the embeddings of the classes instead. We define 10-dimensional embeddings to represent our $y \\in {0, 1}$ classes as float vectors.\n",
        "\n",
        "We then randomly generate 0 and 1 values with the amount of **batch_size** and get their embeddings.\n",
        "\n",
        "In our function, we will imitate a feed-forward neural network to implement class-conditional batch normalization, so we also define the weights and biases of this very simple perceptron as *gamma_w*, *gamma_b*, *beta_w*, and *beta_b*."
      ]
    },
    {
      "cell_type": "code",
      "metadata": {
        "id": "_Q9B_5tu4j8X"
      },
      "source": [
        "import torch.nn as nn\n",
        "\n",
        "# Assuming binary classification (binary labels)\n",
        "num_classes = 2\n",
        "embedding_dim = 10\n",
        "\n",
        "# 10-dimensional embeddings for two classes: 2 x 10\n",
        "class_embeddings = nn.Embedding(num_classes, embedding_dim)\n",
        "\n",
        "# 16 random labels of 0 and 1\n",
        "input_labels = torch.randint(0, 2, size=(batch_size,))\n",
        "\n",
        "# Get class embeddings\n",
        "input_label_embeddings = class_embeddings(input_labels)\n",
        "\n",
        "gamma_w = torch.randn(embedding_dim, num_channels)\n",
        "gamma_b = torch.zeros(1, num_channels)\n",
        "beta_w = torch.randn(embedding_dim, num_channels)\n",
        "beta_b = torch.zeros(1, num_channels)"
      ],
      "execution_count": null,
      "outputs": []
    },
    {
      "cell_type": "code",
      "metadata": {
        "id": "C6O7MEOs6LSo"
      },
      "source": [
        "def cond_batch_normalization_conv(X, Y, gamma_w, gamma_b, beta_w, beta_b, eps=1e-8):\n",
        "  \"\"\"Performs conditional batch normalization operation for convolutional layer output\n",
        "    Args:\n",
        "        X: input tensor (N x C x H x W)\n",
        "        Y: input labels (N x emb_dim)\n",
        "        gamma_w: scale weights (emb_dim x C)\n",
        "        gamma_b: scale bias (1 x C)\n",
        "        beta_w: offset weights (emb_dim x C)\n",
        "        beta_b: offset bias (1 x C)\n",
        "        eps: epsilon value\n",
        "    Returns:\n",
        "        the resulting tensor of the batch norm operation\n",
        "  \"\"\"\n",
        "  #######################\n",
        "  # Write code here\n",
        "  #######################\n",
        "  pass"
      ],
      "execution_count": null,
      "outputs": []
    },
    {
      "cell_type": "code",
      "metadata": {
        "id": "IF0mJSbG6La4",
        "colab": {
          "base_uri": "https://localhost:8080/"
        },
        "outputId": "38b2b0e3-0b4f-482a-92e0-a48ea548fd86"
      },
      "source": [
        "print(\"Expected Output:\")\n",
        "print(cond_batch_normalization_conv(input_tensor, input_label_embeddings, gamma_w, gamma_b, beta_w, beta_b)[0, 0, 0, :].data)"
      ],
      "execution_count": null,
      "outputs": [
        {
          "output_type": "stream",
          "name": "stdout",
          "text": [
            "Expected Output:\n",
            "tensor([-4.8654, -4.9883, -0.8110, -1.6601,  4.2812,  3.5554, -1.1141, -9.4485,\n",
            "         1.8426, -5.5023,  1.9710,  1.7771,  0.9049,  6.0829,  5.5230, -0.7957,\n",
            "        -5.9161, -7.5062,  2.9747,  4.0255,  3.1238, -6.8539, -1.2315,  8.9334])\n"
          ]
        }
      ]
    },
    {
      "cell_type": "markdown",
      "metadata": {
        "id": "upNU71dN_pHa"
      },
      "source": [
        "Expected output:\n",
        "\n",
        "tensor([-4.8654, -4.9883, -0.8110, -1.6601,  4.2812,  3.5554, -1.1141, -9.4485,\n",
        "         1.8426, -5.5023,  1.9710,  1.7771,  0.9049,  6.0829,  5.5230, -0.7957,\n",
        "        -5.9161, -7.5062,  2.9747,  4.0255,  3.1238, -6.8539, -1.2315,  8.9334])"
      ]
    },
    {
      "cell_type": "markdown",
      "metadata": {
        "id": "_GNtF-3qDkrI"
      },
      "source": [
        "## Question 3\n",
        "\n",
        "Implement the adaptive instance normalization (AdaIN) from StyleGAN. You can refer to the lecture slides or the StyleGAN paper [here](https://arxiv.org/abs/1812.04948).\n",
        "\n",
        "Adaptive instance normalization is used in StyleGAN to incorporate the *style* information to the network through combining learned affine transformations and feature maps produced by convolutions.\n",
        "\n",
        "AdaIN operation is defined mathemtically with the following equation:\n",
        "\n",
        "\\begin{equation}\n",
        "\\text{AdaIN}(\\mathbf{x}_i, \\mathbf{y}) = \\mathbf{y}_{s, i}\\frac{\\mathbf{x}_i - \\mu(\\mathbf{x}_i)}{\\sigma(\\mathbf{x}_i)} + \\mathbf{y}_{b,i}\n",
        "\\end{equation}\n",
        "\n",
        "which takes the feature map $\\mathbf{x}_i$ and the style vector $\\mathbf{y}$ as parameters. Essentially, the operation normalizes the feature maps, scales it with half of the style vector and shifts it with the other half. Representations $\\mathbf{y}_s$ and $\\mathbf{y}_b$ correspond to *shift* and *bias* and they are simply two halves of the style vector $\\mathbf{y} = (\\mathbf{y}_s, \\mathbf{y}_b)$ "
      ]
    },
    {
      "cell_type": "code",
      "metadata": {
        "id": "cQjOXT_LFzYz"
      },
      "source": [
        "input_feature_map = torch.randn(batch_size, num_channels, 24, 24)\n",
        "style_vector = torch.randn(batch_size, 2 * num_channels)"
      ],
      "execution_count": null,
      "outputs": []
    },
    {
      "cell_type": "code",
      "metadata": {
        "id": "iv6QG0R4Dk9m"
      },
      "source": [
        "def adaptive_instance_normalization(X, y, eps=1e-8):\n",
        "  \"\"\"Performs adaptive instance normalization on the given feature map X with the\n",
        "  style input y\n",
        "    Args:\n",
        "      X: Feature map (N x C x W x H)\n",
        "      y: Style vector (N x 2C)\n",
        "    Returns:\n",
        "      The resulting tensor from the operation\n",
        "  \"\"\"\n",
        "  pass"
      ],
      "execution_count": null,
      "outputs": []
    },
    {
      "cell_type": "code",
      "metadata": {
        "colab": {
          "base_uri": "https://localhost:8080/"
        },
        "id": "rsNaI_rGGl_T",
        "outputId": "7ff39793-14dd-426b-99ff-5e4734f66ea5"
      },
      "source": [
        "print(adaptive_instance_normalization(input_feature_map, style_vector)[0,0,0,:])"
      ],
      "execution_count": null,
      "outputs": [
        {
          "output_type": "stream",
          "name": "stdout",
          "text": [
            "tensor([9.5492e-01, 3.1419e-01, 3.7104e+00, 1.3578e+00, 1.9867e+00, 2.0013e+00,\n",
            "        3.8199e+00, 3.2714e+00, 3.1662e-04, 2.9241e+00, 1.2787e+00, 3.0599e+00,\n",
            "        3.0669e+00, 4.9342e-01, 5.8750e-01, 2.1606e+00, 2.4507e+00, 2.4924e+00,\n",
            "        2.1146e+00, 2.1017e+00, 2.4752e+00, 2.3877e+00, 3.2252e+00, 4.0635e+00])\n"
          ]
        }
      ]
    },
    {
      "cell_type": "markdown",
      "metadata": {
        "id": "clTwrOoC_iRQ"
      },
      "source": [
        "Expected output:\n",
        "\n",
        "tensor([9.5492e-01, 3.1419e-01, 3.7104e+00, 1.3578e+00, 1.9867e+00, 2.0013e+00,\n",
        "        3.8199e+00, 3.2714e+00, 3.1662e-04, 2.9241e+00, 1.2787e+00, 3.0599e+00,\n",
        "        3.0669e+00, 4.9342e-01, 5.8750e-01, 2.1606e+00, 2.4507e+00, 2.4924e+00,\n",
        "        2.1146e+00, 2.1017e+00, 2.4752e+00, 2.3877e+00, 3.2252e+00, 4.0635e+00])"
      ]
    },
    {
      "cell_type": "markdown",
      "metadata": {
        "id": "hA6eCaA2Fg5H"
      },
      "source": [
        "## Question 4\n",
        "\n",
        "Implement a function that calculates the Frechet Inception Distance score from given real examples and fake examples.\n",
        "\n",
        "You can refer to its original paper [here](https://arxiv.org/abs/1706.08500).\n",
        "\n",
        "\\begin{equation}\n",
        "\\text{FID} = ||\\mu_1 – \\mu_2||^2 + \\text{Tr}(C_1 + C_2 – 2\\sqrt{C_1C_2})\n",
        "\\end{equation}\n",
        "\n",
        "where $\\mu_1$ and $\\mu_2$ are the feature-wise means of the real and generated samples, respectively. In addition, $C_1$ and $C_2$ are the covariance matrices of the real and generated samples, sometimes also referred as sigma ($\\Sigma$)."
      ]
    },
    {
      "cell_type": "code",
      "metadata": {
        "id": "QHVzP31EnRX4"
      },
      "source": [
        "import torch\n",
        "import torch.nn as nn\n",
        "from torchvision.models import inception_v3\n",
        "from torchvision.datasets import MNIST\n",
        "from torchvision.transforms import Resize\n",
        "\n",
        "%matplotlib inline\n",
        "import matplotlib.pyplot as plt\n",
        "import numpy as np"
      ],
      "execution_count": null,
      "outputs": []
    },
    {
      "cell_type": "code",
      "metadata": {
        "colab": {
          "base_uri": "https://localhost:8080/",
          "height": 324
        },
        "id": "8ynS40kpny_d",
        "outputId": "b462b8ea-d78c-45e9-c708-753dcc110e8f"
      },
      "source": [
        "mnist_dataset = MNIST(root=\".\", download=True)\n",
        "\n",
        "# Get 200 MNIST examples\n",
        "mnist_examples = mnist_dataset.data[:32].type(torch.FloatTensor)\n",
        "mnist_examples /= 255\n",
        "\n",
        "resizer = Resize(299)\n",
        "mnist_examples = resizer(mnist_examples)\n",
        "\n",
        "plt.imshow(mnist_examples[2].numpy(), interpolation='nearest', cmap='gray')\n",
        "\n",
        "# Reshape the images to 3D to give them as inputs to the Inception network\n",
        "mnist_examples = mnist_examples.unsqueeze(dim=3).repeat((1, 1, 1, 3))"
      ],
      "execution_count": null,
      "outputs": [
        {
          "output_type": "stream",
          "name": "stderr",
          "text": [
            "/usr/local/lib/python3.7/dist-packages/torchvision/datasets/mnist.py:498: UserWarning: The given NumPy array is not writeable, and PyTorch does not support non-writeable tensors. This means you can write to the underlying (supposedly non-writeable) NumPy array using the tensor. You may want to copy the array to protect its data or make it writeable before converting it to a tensor. This type of warning will be suppressed for the rest of this program. (Triggered internally at  /pytorch/torch/csrc/utils/tensor_numpy.cpp:180.)\n",
            "  return torch.from_numpy(parsed.astype(m[2], copy=False)).view(*s)\n"
          ]
        },
        {
          "output_type": "display_data",
          "data": {
            "image/png": "[encoded data removed]",
            "text/plain": [
              "<Figure size 432x288 with 1 Axes>"
            ]
          },
          "metadata": {
            "needs_background": "light"
          }
        }
      ]
    },
    {
      "cell_type": "code",
      "metadata": {
        "colab": {
          "base_uri": "https://localhost:8080/",
          "height": 286
        },
        "id": "aUB-9Gi3rHWW",
        "outputId": "710a394c-7ee1-407c-8c5a-bd26906f71f9"
      },
      "source": [
        "# Create 200 noisy images as the same sizes with MNIST\n",
        "noisy_examples = torch.randn(32, 299, 299, 1).clip(0, 1).repeat((1, 1, 1, 3))\n",
        "\n",
        "plt.imshow(noisy_examples[2].numpy(), interpolation='nearest', cmap='gray')"
      ],
      "execution_count": null,
      "outputs": [
        {
          "output_type": "execute_result",
          "data": {
            "text/plain": [
              "<matplotlib.image.AxesImage at 0x7f6581553cd0>"
            ]
          },
          "metadata": {},
          "execution_count": 3
        },
        {
          "output_type": "display_data",
          "data": {
            "image/png": "[encoded data removed]",
            "text/plain": [
              "<Figure size 432x288 with 1 Axes>"
            ]
          },
          "metadata": {
            "needs_background": "light"
          }
        }
      ]
    },
    {
      "cell_type": "code",
      "metadata": {
        "colab": {
          "base_uri": "https://localhost:8080/"
        },
        "id": "EA_j9TN2njwA",
        "outputId": "a37f8bf1-0df0-492a-f33b-b4da147cd1bd"
      },
      "source": [
        "# Download the pretrained inception v3 model\n",
        "inception_model = inception_v3(pretrained=True)\n",
        "# Replace the classification layer with an identity layer to get the activations\n",
        "inception_model.fc = nn.Identity()\n",
        "# Evaluation mode\n",
        "inception_model.eval()\n",
        "\n",
        "with torch.no_grad():\n",
        "  mnist_features = inception_model(mnist_examples.permute(0, 3, 1, 2))\n",
        "  noisy_features = inception_model(noisy_examples.permute(0, 3, 1, 2))"
      ],
      "execution_count": null,
      "outputs": [
        {
          "output_type": "stream",
          "name": "stderr",
          "text": [
            "/usr/local/lib/python3.7/dist-packages/torch/nn/functional.py:718: UserWarning: Named tensors and all their associated APIs are an experimental feature and subject to change. Please do not use them for anything important until they are released as stable. (Triggered internally at  /pytorch/c10/core/TensorImpl.h:1156.)\n",
            "  return torch.max_pool2d(input, kernel_size, stride, padding, dilation, ceil_mode)\n"
          ]
        }
      ]
    },
    {
      "cell_type": "code",
      "metadata": {
        "id": "_ZeSQn79FhBV"
      },
      "source": [
        "def calculate_fid(real_features, fake_features):\n",
        "  \"\"\"Calculates the Frechet Inception Distance of the given real and fake features\n",
        "  to measure the similarity of two data distributions\n",
        "  \n",
        "  Args:\n",
        "    real_features: Features taken from the real images (N x D)\n",
        "    fake_features: Features taken from the fake images (N x D)\n",
        "  Returns:\n",
        "    A scalar number as the distance between two data distributions\n",
        "  \"\"\"\n",
        "  pass"
      ],
      "execution_count": null,
      "outputs": []
    },
    {
      "cell_type": "code",
      "metadata": {
        "id": "M7FYcyZFvS8k"
      },
      "source": [
        "calculate_fid(mnist_features.numpy(), noisy_features.numpy())"
      ],
      "execution_count": null,
      "outputs": []
    },
    {
      "cell_type": "markdown",
      "metadata": {
        "id": "-rNQgpBv3IM0"
      },
      "source": [
        "Expected output: 396.4476952524345"
      ]
    },
    {
      "cell_type": "code",
      "metadata": {
        "id": "0c0iau9gwgJ5"
      },
      "source": [
        "calculate_fid(mnist_features.numpy()[:16], mnist_features.numpy()[16:])"
      ],
      "execution_count": null,
      "outputs": []
    },
    {
      "cell_type": "markdown",
      "metadata": {
        "id": "36YEFdPi3K2e"
      },
      "source": [
        "Expected output: 95.29507726881653"
      ]
    }
  ]
}